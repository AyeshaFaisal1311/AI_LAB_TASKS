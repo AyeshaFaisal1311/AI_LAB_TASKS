{
 "cells": [
  {
   "cell_type": "markdown",
   "metadata": {},
   "source": [
    "MIN-MAX algorithm code:"
   ]
  },
  {
   "cell_type": "code",
   "execution_count": 9,
   "metadata": {},
   "outputs": [],
   "source": [
    "import math\n",
    "\n",
    "def minmax(cd,node,maxt,scr,td):\n",
    "    if(cd== td):\n",
    "        return scr [node]\n",
    "    if (maxt):\n",
    "        return max (minmax(cd+1,node*2,False,scr,td),\n",
    "                    minmax(cd+1,node*2+1,False,scr,td))\n",
    "    else:\n",
    "        return min(minmax(cd+1,node*2,True,scr,td),\n",
    "                   minmax(cd+1,node*2+1,True,scr,td))"
   ]
  },
  {
   "cell_type": "code",
   "execution_count": 22,
   "metadata": {},
   "outputs": [
    {
     "name": "stdout",
     "output_type": "stream",
     "text": [
      "Optimal value is :  3\n"
     ]
    }
   ],
   "source": [
    "scr= []\n",
    "x=int(input(\"Enter total no.of leaf nodes\"))\n",
    "for i in range(x):\n",
    "    y=int(input(\"enter leaf values\"))\n",
    "    scr.append(y)\n",
    "\n",
    "td =math.log(len(scr),2)\n",
    "cd= int(input(\"Enter current depth value (0 for root)\"))\n",
    "node = int(input(\"Enter node value (0 for root)\"))\n",
    "maxt= True\n",
    "\n",
    "print(\"Optimal value is : \",minmax(cd,node,maxt,scr,td))\n",
    "\n"
   ]
  }
 ],
 "metadata": {
  "kernelspec": {
   "display_name": "Python 3",
   "language": "python",
   "name": "python3"
  },
  "language_info": {
   "codemirror_mode": {
    "name": "ipython",
    "version": 3
   },
   "file_extension": ".py",
   "mimetype": "text/x-python",
   "name": "python",
   "nbconvert_exporter": "python",
   "pygments_lexer": "ipython3",
   "version": "3.12.4"
  }
 },
 "nbformat": 4,
 "nbformat_minor": 2
}
