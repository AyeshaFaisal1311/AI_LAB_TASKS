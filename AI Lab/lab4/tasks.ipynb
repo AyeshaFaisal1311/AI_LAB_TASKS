{
 "cells": [
  {
   "cell_type": "markdown",
   "metadata": {},
   "source": [
    "Code for LUHN:"
   ]
  },
  {
   "cell_type": "code",
   "execution_count": 5,
   "metadata": {},
   "outputs": [
    {
     "name": "stdout",
     "output_type": "stream",
     "text": [
      "invalid\n"
     ]
    }
   ],
   "source": [
    "sum_odd_dig=0\n",
    "sum_even_dig=0\n",
    "total=0\n",
    "\n",
    "card_num=input(\"enter credit card number\")\n",
    "card_num=card_num.replace(\"-\",\"\")\n",
    "card_num=card_num.replace(\" \",\"\")\n",
    "card_num=card_num[::-1]\n",
    "\n",
    "for i in card_num[::2]:\n",
    "    sum_odd_dig+=int(i)\n",
    "\n",
    "for i in card_num[1::2]:\n",
    "    i=int(i)*2\n",
    "    if i>=10:\n",
    "        sum_even_dig+=(1+(i%10))\n",
    "    else:\n",
    "        sum_even_dig+=i\n",
    "\n",
    "total=sum_even_dig+sum_odd_dig\n",
    "\n",
    "if total%10==0:\n",
    "    print(\"valid credit card number\")\n",
    "else:\n",
    "    print(\"invalid credit card number\")\n",
    "\n",
    "\n"
   ]
  },
  {
   "cell_type": "markdown",
   "metadata": {},
   "source": [
    "Remove punctuation from user input string:"
   ]
  },
  {
   "cell_type": "code",
   "execution_count": 8,
   "metadata": {},
   "outputs": [
    {
     "name": "stdout",
     "output_type": "stream",
     "text": [
      "Without Punctuation: hi ayesha\n"
     ]
    }
   ],
   "source": [
    "punctuation=\"`~!@#$%^&*()-_,<.>/?\\\\;:'|{}[]\"\n",
    "user_inp=input(\"enter your string\")\n",
    "emp_str=\"\"\n",
    "\n",
    "for x in user_inp:\n",
    "    if x not in punctuation:\n",
    "        emp_str=emp_str+x\n",
    "\n",
    "print(\"Without Punctuation:\",emp_str)        \n",
    "\n"
   ]
  },
  {
   "cell_type": "markdown",
   "metadata": {},
   "source": [
    "Sort text in Alphabetical order:"
   ]
  },
  {
   "cell_type": "code",
   "execution_count": 20,
   "metadata": {},
   "outputs": [
    {
     "name": "stdout",
     "output_type": "stream",
     "text": [
      "Sorted text/words: ant lion zebra\n"
     ]
    }
   ],
   "source": [
    "\n",
    "def bubble_sort(text):\n",
    "    text=text.split() \n",
    "    for h in range(len(text)-1):\n",
    "        for f in range(len(text)-1-h):\n",
    "            if text[h].lower() > text[f+1].lower():\n",
    "\n",
    "                text[f],text[f+1]=text[f+1],text[f]\n",
    "    return \" \".join(text)\n",
    "\n",
    "text= input(\"Enter text\")\n",
    "\n",
    "sorted=bubble_sort(text)\n",
    "\n",
    "print (\"Sorted text/words:\",sorted)\n",
    "\n",
    "\n"
   ]
  },
  {
   "cell_type": "code",
   "execution_count": null,
   "metadata": {},
   "outputs": [],
   "source": []
  }
 ],
 "metadata": {
  "kernelspec": {
   "display_name": "Python 3",
   "language": "python",
   "name": "python3"
  },
  "language_info": {
   "codemirror_mode": {
    "name": "ipython",
    "version": 3
   },
   "file_extension": ".py",
   "mimetype": "text/x-python",
   "name": "python",
   "nbconvert_exporter": "python",
   "pygments_lexer": "ipython3",
   "version": "3.12.4"
  }
 },
 "nbformat": 4,
 "nbformat_minor": 2
}
